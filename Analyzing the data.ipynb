{
 "cells": [
  {
   "cell_type": "markdown",
   "metadata": {
    "deletable": true,
    "editable": true
   },
   "source": [
    "Analyzing Jeopardy Questions trying to find out whether I can get an edge when playing!\n",
    "Data being used: https://www.reddit.com/r/datasets/comments/1uyd0t/200000_jeopardy_questions_in_a_json_file/"
   ]
  },
  {
   "cell_type": "code",
   "execution_count": 646,
   "metadata": {
    "collapsed": false,
    "deletable": true,
    "editable": true
   },
   "outputs": [
    {
     "data": {
      "text/html": [
       "<div>\n",
       "<style scoped>\n",
       "    .dataframe tbody tr th:only-of-type {\n",
       "        vertical-align: middle;\n",
       "    }\n",
       "\n",
       "    .dataframe tbody tr th {\n",
       "        vertical-align: top;\n",
       "    }\n",
       "\n",
       "    .dataframe thead th {\n",
       "        text-align: right;\n",
       "    }\n",
       "</style>\n",
       "<table border=\"1\" class=\"dataframe\">\n",
       "  <thead>\n",
       "    <tr style=\"text-align: right;\">\n",
       "      <th></th>\n",
       "      <th>Show Number</th>\n",
       "      <th>Air Date</th>\n",
       "      <th>Round</th>\n",
       "      <th>Category</th>\n",
       "      <th>Value</th>\n",
       "      <th>Question</th>\n",
       "      <th>Answer</th>\n",
       "    </tr>\n",
       "  </thead>\n",
       "  <tbody>\n",
       "    <tr>\n",
       "      <th>0</th>\n",
       "      <td>4680</td>\n",
       "      <td>2004-12-31</td>\n",
       "      <td>Jeopardy!</td>\n",
       "      <td>HISTORY</td>\n",
       "      <td>$200</td>\n",
       "      <td>For the last 8 years of his life, Galileo was ...</td>\n",
       "      <td>Copernicus</td>\n",
       "    </tr>\n",
       "    <tr>\n",
       "      <th>1</th>\n",
       "      <td>4680</td>\n",
       "      <td>2004-12-31</td>\n",
       "      <td>Jeopardy!</td>\n",
       "      <td>ESPN's TOP 10 ALL-TIME ATHLETES</td>\n",
       "      <td>$200</td>\n",
       "      <td>No. 2: 1912 Olympian; football star at Carlisl...</td>\n",
       "      <td>Jim Thorpe</td>\n",
       "    </tr>\n",
       "    <tr>\n",
       "      <th>2</th>\n",
       "      <td>4680</td>\n",
       "      <td>2004-12-31</td>\n",
       "      <td>Jeopardy!</td>\n",
       "      <td>EVERYBODY TALKS ABOUT IT...</td>\n",
       "      <td>$200</td>\n",
       "      <td>The city of Yuma in this state has a record av...</td>\n",
       "      <td>Arizona</td>\n",
       "    </tr>\n",
       "    <tr>\n",
       "      <th>3</th>\n",
       "      <td>4680</td>\n",
       "      <td>2004-12-31</td>\n",
       "      <td>Jeopardy!</td>\n",
       "      <td>THE COMPANY LINE</td>\n",
       "      <td>$200</td>\n",
       "      <td>In 1963, live on \"The Art Linkletter Show\", th...</td>\n",
       "      <td>McDonald's</td>\n",
       "    </tr>\n",
       "    <tr>\n",
       "      <th>4</th>\n",
       "      <td>4680</td>\n",
       "      <td>2004-12-31</td>\n",
       "      <td>Jeopardy!</td>\n",
       "      <td>EPITAPHS &amp; TRIBUTES</td>\n",
       "      <td>$200</td>\n",
       "      <td>Signer of the Dec. of Indep., framer of the Co...</td>\n",
       "      <td>John Adams</td>\n",
       "    </tr>\n",
       "  </tbody>\n",
       "</table>\n",
       "</div>"
      ],
      "text/plain": [
       "   Show Number    Air Date      Round                         Category  Value  \\\n",
       "0         4680  2004-12-31  Jeopardy!                          HISTORY   $200   \n",
       "1         4680  2004-12-31  Jeopardy!  ESPN's TOP 10 ALL-TIME ATHLETES   $200   \n",
       "2         4680  2004-12-31  Jeopardy!      EVERYBODY TALKS ABOUT IT...   $200   \n",
       "3         4680  2004-12-31  Jeopardy!                 THE COMPANY LINE   $200   \n",
       "4         4680  2004-12-31  Jeopardy!              EPITAPHS & TRIBUTES   $200   \n",
       "\n",
       "                                            Question      Answer  \n",
       "0  For the last 8 years of his life, Galileo was ...  Copernicus  \n",
       "1  No. 2: 1912 Olympian; football star at Carlisl...  Jim Thorpe  \n",
       "2  The city of Yuma in this state has a record av...     Arizona  \n",
       "3  In 1963, live on \"The Art Linkletter Show\", th...  McDonald's  \n",
       "4  Signer of the Dec. of Indep., framer of the Co...  John Adams  "
      ]
     },
     "execution_count": 646,
     "metadata": {},
     "output_type": "execute_result"
    }
   ],
   "source": [
    "\n",
    "import pandas as pd\n",
    "# Add asset from file system\n",
    "jeopardy = pd.read_csv('../datasets/JEOPARDY_CSV.csv')\n",
    "jeopardy = jeopardy.iloc[0:65000]\n",
    "jeopardy.head()"
   ]
  },
  {
   "cell_type": "code",
   "execution_count": 647,
   "metadata": {
    "collapsed": false,
    "deletable": true,
    "editable": true
   },
   "outputs": [
    {
     "data": {
      "text/plain": [
       "Index(['Show Number', ' Air Date', ' Round', ' Category', ' Value',\n",
       "       ' Question', ' Answer'],\n",
       "      dtype='object')"
      ]
     },
     "execution_count": 647,
     "metadata": {},
     "output_type": "execute_result"
    }
   ],
   "source": [
    "jeopardy.columns"
   ]
  },
  {
   "cell_type": "code",
   "execution_count": 648,
   "metadata": {
    "collapsed": false,
    "deletable": true,
    "editable": true
   },
   "outputs": [],
   "source": [
    "jeopardy.columns = jeopardy.columns.str.replace(\" \",\"\")"
   ]
  },
  {
   "cell_type": "code",
   "execution_count": 649,
   "metadata": {
    "collapsed": false,
    "deletable": true,
    "editable": true
   },
   "outputs": [
    {
     "data": {
      "text/plain": [
       "Index(['ShowNumber', 'AirDate', 'Round', 'Category', 'Value', 'Question',\n",
       "       'Answer'],\n",
       "      dtype='object')"
      ]
     },
     "execution_count": 649,
     "metadata": {},
     "output_type": "execute_result"
    }
   ],
   "source": [
    "jeopardy.columns"
   ]
  },
  {
   "cell_type": "code",
   "execution_count": 650,
   "metadata": {
    "collapsed": false,
    "deletable": true,
    "editable": true
   },
   "outputs": [
    {
     "name": "stdout",
     "output_type": "stream",
     "text": [
      "<class 'pandas.core.frame.DataFrame'>\n",
      "RangeIndex: 65000 entries, 0 to 64999\n",
      "Data columns (total 7 columns):\n",
      "ShowNumber    65000 non-null int64\n",
      "AirDate       65000 non-null object\n",
      "Round         65000 non-null object\n",
      "Category      65000 non-null object\n",
      "Value         65000 non-null object\n",
      "Question      65000 non-null object\n",
      "Answer        65000 non-null object\n",
      "dtypes: int64(1), object(6)\n",
      "memory usage: 3.5+ MB\n"
     ]
    }
   ],
   "source": [
    "jeopardy.info()"
   ]
  },
  {
   "cell_type": "code",
   "execution_count": 651,
   "metadata": {
    "collapsed": false,
    "deletable": true,
    "editable": true
   },
   "outputs": [
    {
     "data": {
      "text/plain": [
       "0    For the last 8 years of his life, Galileo was ...\n",
       "1    No. 2: 1912 Olympian; football star at Carlisl...\n",
       "2    The city of Yuma in this state has a record av...\n",
       "3    In 1963, live on \"The Art Linkletter Show\", th...\n",
       "4    Signer of the Dec. of Indep., framer of the Co...\n",
       "Name: Question, dtype: object"
      ]
     },
     "execution_count": 651,
     "metadata": {},
     "output_type": "execute_result"
    }
   ],
   "source": [
    "jeopardy[\"Question\"].head()"
   ]
  },
  {
   "cell_type": "code",
   "execution_count": 652,
   "metadata": {
    "collapsed": false,
    "deletable": true,
    "editable": true
   },
   "outputs": [
    {
     "data": {
      "text/plain": [
       "0    Copernicus\n",
       "1    Jim Thorpe\n",
       "2       Arizona\n",
       "3    McDonald's\n",
       "4    John Adams\n",
       "Name: Answer, dtype: object"
      ]
     },
     "execution_count": 652,
     "metadata": {},
     "output_type": "execute_result"
    }
   ],
   "source": [
    "jeopardy[\"Answer\"].head()"
   ]
  },
  {
   "cell_type": "code",
   "execution_count": 653,
   "metadata": {
    "collapsed": false,
    "deletable": true,
    "editable": true
   },
   "outputs": [],
   "source": [
    "def str_normalizer(data): #to lowercase and clean the string\n",
    "    data = str(data)\n",
    "    lowered = data.lower()\n",
    "    return lowered\n",
    "\n",
    "jeopardy[\"clean_question\"] = jeopardy[\"Question\"].apply(str_normalizer)"
   ]
  },
  {
   "cell_type": "code",
   "execution_count": 654,
   "metadata": {
    "collapsed": false,
    "deletable": true,
    "editable": true
   },
   "outputs": [
    {
     "data": {
      "text/plain": [
       "0    for the last 8 years of his life, galileo was ...\n",
       "1    no. 2: 1912 olympian; football star at carlisl...\n",
       "2    the city of yuma in this state has a record av...\n",
       "3    in 1963, live on \"the art linkletter show\", th...\n",
       "4    signer of the dec. of indep., framer of the co...\n",
       "Name: clean_question, dtype: object"
      ]
     },
     "execution_count": 654,
     "metadata": {},
     "output_type": "execute_result"
    }
   ],
   "source": [
    "jeopardy[\"clean_question\"].head()"
   ]
  },
  {
   "cell_type": "code",
   "execution_count": 655,
   "metadata": {
    "collapsed": false,
    "deletable": true,
    "editable": true
   },
   "outputs": [],
   "source": [
    "jeopardy[\"clean_answer\"] = jeopardy[\"Answer\"].apply(str_normalizer)"
   ]
  },
  {
   "cell_type": "code",
   "execution_count": 656,
   "metadata": {
    "collapsed": false,
    "deletable": true,
    "editable": true
   },
   "outputs": [
    {
     "data": {
      "text/plain": [
       "0    copernicus\n",
       "1    jim thorpe\n",
       "2       arizona\n",
       "3    mcdonald's\n",
       "4    john adams\n",
       "Name: clean_answer, dtype: object"
      ]
     },
     "execution_count": 656,
     "metadata": {},
     "output_type": "execute_result"
    }
   ],
   "source": [
    "jeopardy[\"clean_answer\"].head()"
   ]
  },
  {
   "cell_type": "code",
   "execution_count": 657,
   "metadata": {
    "collapsed": false,
    "deletable": true,
    "editable": true
   },
   "outputs": [
    {
     "data": {
      "text/plain": [
       "array(['$200', '$400', '$600', '$800', '$2,000', '$1000', '$1200',\n",
       "       '$1600', '$2000', '$3,200', 'None', '$5,000', '$100', '$300',\n",
       "       '$500', '$1,000', '$1,500', '$1,200', '$4,800', '$1,800', '$1,100',\n",
       "       '$2,200', '$3,400', '$3,000', '$4,000', '$1,600', '$6,800',\n",
       "       '$1,900', '$3,100', '$700', '$1,400', '$2,800', '$8,000', '$6,000',\n",
       "       '$2,400', '$12,000', '$3,800', '$2,500', '$6,200', '$10,000',\n",
       "       '$7,000', '$1,492', '$7,400', '$1,300', '$7,200', '$2,600',\n",
       "       '$3,300', '$5,400', '$4,500', '$2,100', '$900', '$3,600', '$2,127',\n",
       "       '$367', '$4,400', '$3,500', '$2,900', '$3,900', '$4,100', '$4,600',\n",
       "       '$10,800', '$2,300', '$5,600', '$1,111', '$8,200', '$5,800',\n",
       "       '$750', '$7,500', '$1,700', '$9,000', '$6,100', '$1,020', '$4,700',\n",
       "       '$2,021', '$5,200', '$3,389', '$4,200', '$5', '$2,001', '$1,263',\n",
       "       '$4,637', '$3,201', '$6,600', '$3,700', '$2,990', '$5,500',\n",
       "       '$14,000', '$2,700', '$6,400', '$350', '$8,600', '$6,300', '$250',\n",
       "       '$3,989', '$8,917', '$9,500', '$1,246', '$6,435', '$8,800',\n",
       "       '$2,222', '$2,746', '$10,400', '$7,600'], dtype=object)"
      ]
     },
     "execution_count": 657,
     "metadata": {},
     "output_type": "execute_result"
    }
   ],
   "source": [
    "jeopardy[\"Value\"].unique()"
   ]
  },
  {
   "cell_type": "code",
   "execution_count": 658,
   "metadata": {
    "collapsed": true,
    "deletable": true,
    "editable": true
   },
   "outputs": [],
   "source": [
    "def num_normalizer(data): #to make column numeric\n",
    "    try:\n",
    "        data = str(data)\n",
    "        data = data.replace(\"$\",\"\")\n",
    "        data = data.replace(\",\",\"\")\n",
    "        return int(data)\n",
    "    except Exception:\n",
    "        return 0"
   ]
  },
  {
   "cell_type": "code",
   "execution_count": 659,
   "metadata": {
    "collapsed": false,
    "deletable": true,
    "editable": true
   },
   "outputs": [],
   "source": [
    "jeopardy[\"clean_value\"] = jeopardy[\"Value\"].apply(num_normalizer)"
   ]
  },
  {
   "cell_type": "code",
   "execution_count": 660,
   "metadata": {
    "collapsed": false,
    "deletable": true,
    "editable": true
   },
   "outputs": [
    {
     "data": {
      "text/plain": [
       "0    200\n",
       "1    200\n",
       "2    200\n",
       "3    200\n",
       "4    200\n",
       "Name: clean_value, dtype: int64"
      ]
     },
     "execution_count": 660,
     "metadata": {},
     "output_type": "execute_result"
    }
   ],
   "source": [
    "jeopardy[\"clean_value\"].head()"
   ]
  },
  {
   "cell_type": "code",
   "execution_count": 661,
   "metadata": {
    "collapsed": false,
    "deletable": true,
    "editable": true
   },
   "outputs": [
    {
     "data": {
      "text/plain": [
       "0    2004-12-31\n",
       "1    2004-12-31\n",
       "2    2004-12-31\n",
       "3    2004-12-31\n",
       "4    2004-12-31\n",
       "Name: AirDate, dtype: object"
      ]
     },
     "execution_count": 661,
     "metadata": {},
     "output_type": "execute_result"
    }
   ],
   "source": [
    "jeopardy[\"AirDate\"].head()"
   ]
  },
  {
   "cell_type": "code",
   "execution_count": 662,
   "metadata": {
    "collapsed": false,
    "deletable": true,
    "editable": true
   },
   "outputs": [],
   "source": [
    "jeopardy[\"air_date_dt\"] = pd.to_datetime(jeopardy[\"AirDate\"],infer_datetime_format=True)"
   ]
  },
  {
   "cell_type": "code",
   "execution_count": 663,
   "metadata": {
    "collapsed": false,
    "deletable": true,
    "editable": true
   },
   "outputs": [
    {
     "data": {
      "text/plain": [
       "0   2004-12-31\n",
       "1   2004-12-31\n",
       "2   2004-12-31\n",
       "3   2004-12-31\n",
       "4   2004-12-31\n",
       "Name: air_date_dt, dtype: datetime64[ns]"
      ]
     },
     "execution_count": 663,
     "metadata": {},
     "output_type": "execute_result"
    }
   ],
   "source": [
    "jeopardy[\"air_date_dt\"].head()"
   ]
  },
  {
   "cell_type": "code",
   "execution_count": 664,
   "metadata": {
    "collapsed": false,
    "deletable": true,
    "editable": true
   },
   "outputs": [],
   "source": [
    "def word_count(series):\n",
    "    split_answer = series[\"clean_answer\"].split(\" \")\n",
    "    split_question = series[\"clean_question\"].split(\" \")\n",
    "    match_count = 0\n",
    "    if \"the\" in split_answer:\n",
    "        split_answer.remove(\"the\")\n",
    "    for word_a in split_answer:\n",
    "        if word_a in split_question:\n",
    "            match_count += 1\n",
    "    if len(split_answer) > 0:\n",
    "        matcher = match_count / len(split_answer)\n",
    "    else: \n",
    "        matcher = 0\n",
    "    return matcher\n",
    "\n",
    "jeopardy[\"answer_in_question\"] = jeopardy.apply(word_count, axis=1)"
   ]
  },
  {
   "cell_type": "code",
   "execution_count": 665,
   "metadata": {
    "collapsed": false,
    "deletable": true,
    "editable": true
   },
   "outputs": [
    {
     "data": {
      "text/plain": [
       "0    0.0\n",
       "1    0.0\n",
       "2    0.0\n",
       "3    0.0\n",
       "4    0.0\n",
       "Name: answer_in_question, dtype: float64"
      ]
     },
     "execution_count": 665,
     "metadata": {},
     "output_type": "execute_result"
    }
   ],
   "source": [
    "jeopardy[\"answer_in_question\"].head()"
   ]
  },
  {
   "cell_type": "code",
   "execution_count": 666,
   "metadata": {
    "collapsed": false,
    "deletable": true,
    "editable": true
   },
   "outputs": [
    {
     "data": {
      "text/plain": [
       "count    65000.000000\n",
       "mean         0.045555\n",
       "std          0.142304\n",
       "min          0.000000\n",
       "25%          0.000000\n",
       "50%          0.000000\n",
       "75%          0.000000\n",
       "max          1.000000\n",
       "Name: answer_in_question, dtype: float64"
      ]
     },
     "execution_count": 666,
     "metadata": {},
     "output_type": "execute_result"
    }
   ],
   "source": [
    "jeopardy[\"answer_in_question\"].describe()"
   ]
  },
  {
   "cell_type": "code",
   "execution_count": 667,
   "metadata": {
    "collapsed": false,
    "deletable": true,
    "editable": true
   },
   "outputs": [
    {
     "data": {
      "text/html": [
       "<div>\n",
       "<style scoped>\n",
       "    .dataframe tbody tr th:only-of-type {\n",
       "        vertical-align: middle;\n",
       "    }\n",
       "\n",
       "    .dataframe tbody tr th {\n",
       "        vertical-align: top;\n",
       "    }\n",
       "\n",
       "    .dataframe thead th {\n",
       "        text-align: right;\n",
       "    }\n",
       "</style>\n",
       "<table border=\"1\" class=\"dataframe\">\n",
       "  <thead>\n",
       "    <tr style=\"text-align: right;\">\n",
       "      <th></th>\n",
       "      <th>ShowNumber</th>\n",
       "      <th>AirDate</th>\n",
       "      <th>Round</th>\n",
       "      <th>Category</th>\n",
       "      <th>Value</th>\n",
       "      <th>Question</th>\n",
       "      <th>Answer</th>\n",
       "      <th>clean_question</th>\n",
       "      <th>clean_answer</th>\n",
       "      <th>clean_value</th>\n",
       "      <th>air_date_dt</th>\n",
       "      <th>answer_in_question</th>\n",
       "    </tr>\n",
       "  </thead>\n",
       "  <tbody>\n",
       "    <tr>\n",
       "      <th>13432</th>\n",
       "      <td>4726</td>\n",
       "      <td>2005-03-07</td>\n",
       "      <td>Jeopardy!</td>\n",
       "      <td>WHO'S HAD MORE NO. 1 HITS?</td>\n",
       "      <td>$400</td>\n",
       "      <td>George Michael, Phil Collins, Elton John</td>\n",
       "      <td>Elton John</td>\n",
       "      <td>george michael, phil collins, elton john</td>\n",
       "      <td>elton john</td>\n",
       "      <td>400</td>\n",
       "      <td>2005-03-07</td>\n",
       "      <td>1.0</td>\n",
       "    </tr>\n",
       "    <tr>\n",
       "      <th>43931</th>\n",
       "      <td>3830</td>\n",
       "      <td>2001-04-06</td>\n",
       "      <td>Jeopardy!</td>\n",
       "      <td>SO YOU WANT TO JOIN THE LAPD</td>\n",
       "      <td>$300</td>\n",
       "      <td>Of weight, height or hearing requirements, the...</td>\n",
       "      <td>Height</td>\n",
       "      <td>of weight, height or hearing requirements, the...</td>\n",
       "      <td>height</td>\n",
       "      <td>300</td>\n",
       "      <td>2001-04-06</td>\n",
       "      <td>1.0</td>\n",
       "    </tr>\n",
       "    <tr>\n",
       "      <th>48738</th>\n",
       "      <td>5548</td>\n",
       "      <td>2008-10-22</td>\n",
       "      <td>Jeopardy!</td>\n",
       "      <td>PUT 'EM IN ORDER</td>\n",
       "      <td>$800</td>\n",
       "      <td>By founding: London, Paris, New York City</td>\n",
       "      <td>Paris, London, New York City</td>\n",
       "      <td>by founding: london, paris, new york city</td>\n",
       "      <td>paris, london, new york city</td>\n",
       "      <td>800</td>\n",
       "      <td>2008-10-22</td>\n",
       "      <td>1.0</td>\n",
       "    </tr>\n",
       "    <tr>\n",
       "      <th>6248</th>\n",
       "      <td>5307</td>\n",
       "      <td>2007-10-09</td>\n",
       "      <td>Jeopardy!</td>\n",
       "      <td>NOT A VERB</td>\n",
       "      <td>$600</td>\n",
       "      <td>Wind, wander, wonderful</td>\n",
       "      <td>wonderful</td>\n",
       "      <td>wind, wander, wonderful</td>\n",
       "      <td>wonderful</td>\n",
       "      <td>600</td>\n",
       "      <td>2007-10-09</td>\n",
       "      <td>1.0</td>\n",
       "    </tr>\n",
       "    <tr>\n",
       "      <th>6254</th>\n",
       "      <td>5307</td>\n",
       "      <td>2007-10-09</td>\n",
       "      <td>Jeopardy!</td>\n",
       "      <td>NOT A VERB</td>\n",
       "      <td>$800</td>\n",
       "      <td>Salt, pepper, sage</td>\n",
       "      <td>sage</td>\n",
       "      <td>salt, pepper, sage</td>\n",
       "      <td>sage</td>\n",
       "      <td>800</td>\n",
       "      <td>2007-10-09</td>\n",
       "      <td>1.0</td>\n",
       "    </tr>\n",
       "    <tr>\n",
       "      <th>48720</th>\n",
       "      <td>5548</td>\n",
       "      <td>2008-10-22</td>\n",
       "      <td>Jeopardy!</td>\n",
       "      <td>PUT 'EM IN ORDER</td>\n",
       "      <td>$200</td>\n",
       "      <td>Statehood: Florida, Virginia, Nebraska</td>\n",
       "      <td>Virginia, Florida, Nebraska</td>\n",
       "      <td>statehood: florida, virginia, nebraska</td>\n",
       "      <td>virginia, florida, nebraska</td>\n",
       "      <td>200</td>\n",
       "      <td>2008-10-22</td>\n",
       "      <td>1.0</td>\n",
       "    </tr>\n",
       "    <tr>\n",
       "      <th>4797</th>\n",
       "      <td>5686</td>\n",
       "      <td>2009-05-04</td>\n",
       "      <td>Double Jeopardy!</td>\n",
       "      <td>TIME TO CONVERT</td>\n",
       "      <td>$2,200</td>\n",
       "      <td>You do the math: -40 degrees on the Fahrenheit...</td>\n",
       "      <td>-40</td>\n",
       "      <td>you do the math: -40 degrees on the fahrenheit...</td>\n",
       "      <td>-40</td>\n",
       "      <td>2200</td>\n",
       "      <td>2009-05-04</td>\n",
       "      <td>1.0</td>\n",
       "    </tr>\n",
       "    <tr>\n",
       "      <th>56504</th>\n",
       "      <td>5696</td>\n",
       "      <td>2009-05-18</td>\n",
       "      <td>Jeopardy!</td>\n",
       "      <td>STUPID ANSWERS: THE BRITISH EDITION</td>\n",
       "      <td>$200</td>\n",
       "      <td>A reservoir called the Queen's Basin once grac...</td>\n",
       "      <td>Green Park</td>\n",
       "      <td>a reservoir called the queen's basin once grac...</td>\n",
       "      <td>green park</td>\n",
       "      <td>200</td>\n",
       "      <td>2009-05-18</td>\n",
       "      <td>1.0</td>\n",
       "    </tr>\n",
       "    <tr>\n",
       "      <th>56510</th>\n",
       "      <td>5696</td>\n",
       "      <td>2009-05-18</td>\n",
       "      <td>Jeopardy!</td>\n",
       "      <td>STUPID ANSWERS: THE BRITISH EDITION</td>\n",
       "      <td>$400</td>\n",
       "      <td>The Garden Tower at the Tower of London was th...</td>\n",
       "      <td>the Bloody Tower</td>\n",
       "      <td>the garden tower at the tower of london was th...</td>\n",
       "      <td>the bloody tower</td>\n",
       "      <td>400</td>\n",
       "      <td>2009-05-18</td>\n",
       "      <td>1.0</td>\n",
       "    </tr>\n",
       "    <tr>\n",
       "      <th>56516</th>\n",
       "      <td>5696</td>\n",
       "      <td>2009-05-18</td>\n",
       "      <td>Jeopardy!</td>\n",
       "      <td>STUPID ANSWERS: THE BRITISH EDITION</td>\n",
       "      <td>$600</td>\n",
       "      <td>Battle Abbey, built on the spot where King Har...</td>\n",
       "      <td>Battle</td>\n",
       "      <td>battle abbey, built on the spot where king har...</td>\n",
       "      <td>battle</td>\n",
       "      <td>600</td>\n",
       "      <td>2009-05-18</td>\n",
       "      <td>1.0</td>\n",
       "    </tr>\n",
       "  </tbody>\n",
       "</table>\n",
       "</div>"
      ],
      "text/plain": [
       "       ShowNumber     AirDate             Round  \\\n",
       "13432        4726  2005-03-07         Jeopardy!   \n",
       "43931        3830  2001-04-06         Jeopardy!   \n",
       "48738        5548  2008-10-22         Jeopardy!   \n",
       "6248         5307  2007-10-09         Jeopardy!   \n",
       "6254         5307  2007-10-09         Jeopardy!   \n",
       "48720        5548  2008-10-22         Jeopardy!   \n",
       "4797         5686  2009-05-04  Double Jeopardy!   \n",
       "56504        5696  2009-05-18         Jeopardy!   \n",
       "56510        5696  2009-05-18         Jeopardy!   \n",
       "56516        5696  2009-05-18         Jeopardy!   \n",
       "\n",
       "                                  Category   Value  \\\n",
       "13432           WHO'S HAD MORE NO. 1 HITS?    $400   \n",
       "43931         SO YOU WANT TO JOIN THE LAPD    $300   \n",
       "48738                     PUT 'EM IN ORDER    $800   \n",
       "6248                            NOT A VERB    $600   \n",
       "6254                            NOT A VERB    $800   \n",
       "48720                     PUT 'EM IN ORDER    $200   \n",
       "4797                       TIME TO CONVERT  $2,200   \n",
       "56504  STUPID ANSWERS: THE BRITISH EDITION    $200   \n",
       "56510  STUPID ANSWERS: THE BRITISH EDITION    $400   \n",
       "56516  STUPID ANSWERS: THE BRITISH EDITION    $600   \n",
       "\n",
       "                                                Question  \\\n",
       "13432           George Michael, Phil Collins, Elton John   \n",
       "43931  Of weight, height or hearing requirements, the...   \n",
       "48738          By founding: London, Paris, New York City   \n",
       "6248                             Wind, wander, wonderful   \n",
       "6254                                  Salt, pepper, sage   \n",
       "48720             Statehood: Florida, Virginia, Nebraska   \n",
       "4797   You do the math: -40 degrees on the Fahrenheit...   \n",
       "56504  A reservoir called the Queen's Basin once grac...   \n",
       "56510  The Garden Tower at the Tower of London was th...   \n",
       "56516  Battle Abbey, built on the spot where King Har...   \n",
       "\n",
       "                             Answer  \\\n",
       "13432                    Elton John   \n",
       "43931                        Height   \n",
       "48738  Paris, London, New York City   \n",
       "6248                      wonderful   \n",
       "6254                           sage   \n",
       "48720   Virginia, Florida, Nebraska   \n",
       "4797                            -40   \n",
       "56504                    Green Park   \n",
       "56510              the Bloody Tower   \n",
       "56516                        Battle   \n",
       "\n",
       "                                          clean_question  \\\n",
       "13432           george michael, phil collins, elton john   \n",
       "43931  of weight, height or hearing requirements, the...   \n",
       "48738          by founding: london, paris, new york city   \n",
       "6248                             wind, wander, wonderful   \n",
       "6254                                  salt, pepper, sage   \n",
       "48720             statehood: florida, virginia, nebraska   \n",
       "4797   you do the math: -40 degrees on the fahrenheit...   \n",
       "56504  a reservoir called the queen's basin once grac...   \n",
       "56510  the garden tower at the tower of london was th...   \n",
       "56516  battle abbey, built on the spot where king har...   \n",
       "\n",
       "                       clean_answer  clean_value air_date_dt  \\\n",
       "13432                    elton john          400  2005-03-07   \n",
       "43931                        height          300  2001-04-06   \n",
       "48738  paris, london, new york city          800  2008-10-22   \n",
       "6248                      wonderful          600  2007-10-09   \n",
       "6254                           sage          800  2007-10-09   \n",
       "48720   virginia, florida, nebraska          200  2008-10-22   \n",
       "4797                            -40         2200  2009-05-04   \n",
       "56504                    green park          200  2009-05-18   \n",
       "56510              the bloody tower          400  2009-05-18   \n",
       "56516                        battle          600  2009-05-18   \n",
       "\n",
       "       answer_in_question  \n",
       "13432                 1.0  \n",
       "43931                 1.0  \n",
       "48738                 1.0  \n",
       "6248                  1.0  \n",
       "6254                  1.0  \n",
       "48720                 1.0  \n",
       "4797                  1.0  \n",
       "56504                 1.0  \n",
       "56510                 1.0  \n",
       "56516                 1.0  "
      ]
     },
     "execution_count": 667,
     "metadata": {},
     "output_type": "execute_result"
    }
   ],
   "source": [
    "jeopardy.sort_values(by=\"answer_in_question\", ascending=False).head(10)"
   ]
  },
  {
   "cell_type": "code",
   "execution_count": 668,
   "metadata": {
    "collapsed": false,
    "deletable": true,
    "editable": true
   },
   "outputs": [
    {
     "data": {
      "text/plain": [
       "Category\n",
       "STUPID GEOGRAPHIC ANSWERS              1.000000\n",
       "ACCOUNTING EXAM                        1.000000\n",
       "STUPID ANSWERS: THE BRITISH EDITION    1.000000\n",
       "STUPID ANSWERS AT THE MOVIES           0.900000\n",
       "NOT A POPE                             0.875000\n",
       "WHICH CAME FIRST?                      0.816667\n",
       "WHO'S HAD MORE NO. 1 HITS?             0.700000\n",
       "MIDDLE EASTERN AFFAIRS                 0.666667\n",
       "PUT 'EM IN ORDER                       0.651243\n",
       "OF ORDER                               0.634286\n",
       "NOT A CURRENT NATIONAL CAPITAL         0.600000\n",
       "SEXPERTISE                             0.600000\n",
       "NOT A VERB                             0.600000\n",
       "BIRD HUNTING                           0.600000\n",
       "THE SOUTHERNMOST CAPITAL CITY          0.550000\n",
       "THE SMALLEST IN AREA                   0.547619\n",
       "BORN FIRST                             0.516667\n",
       "FIX THE PROVERB                        0.514048\n",
       "LET'S HAVE ORDER                       0.506667\n",
       "STUPID ANSWERS                         0.506667\n",
       "MEDICAL ISSUES                         0.500000\n",
       "THE NORTHERNMOST NATION                0.500000\n",
       "THE CAST OF THE TEN COMMANDMENTS       0.500000\n",
       "FLYOVER COUNTRY                        0.500000\n",
       "FIRST BORN                             0.500000\n",
       "EXCEPT AFTER SEA                       0.500000\n",
       "THE QUEEN'S ENGLISH                    0.500000\n",
       "FILMS & AUTHORS                        0.500000\n",
       "CHERCHEZ LA FEMME                      0.500000\n",
       "WARTIME                                0.500000\n",
       "                                         ...   \n",
       "I'M GONNA MOON YOU!                    0.000000\n",
       "I'M HUNGRY!                            0.000000\n",
       "I'M IN SUCH A STATE!                   0.000000\n",
       "SUPREME COURT BEFORE & AFTER           0.000000\n",
       "I'LL NEED SOME \"ID\"                    0.000000\n",
       "I'LL HAVE THE \"HAM\"                    0.000000\n",
       "I SERVED IN HIS CABINET                0.000000\n",
       "I'LL HAVE SECONDS                      0.000000\n",
       "I SPEAK MANY TONGUES                   0.000000\n",
       "I STILL LIKE CARTOONS                  0.000000\n",
       "I THEE WED                             0.000000\n",
       "I THINK I'VE HEARD OF \"M\"              0.000000\n",
       "I THINK WE'RE ALONE NOW                0.000000\n",
       "I TV                                   0.000000\n",
       "SYNTHETICS                             0.000000\n",
       "I WANT A COOKIE!                       0.000000\n",
       "I WANT CANDY                           0.000000\n",
       "I WANT MY MTV                          0.000000\n",
       "SYNONYMS                               0.000000\n",
       "SYMPHONY FOR THE DEVIL                 0.000000\n",
       "I WAS HIS VEEP                         0.000000\n",
       "I WISH                                 0.000000\n",
       "I WISH I KNEW HOW TO ACQUIT YOU        0.000000\n",
       "I WRITE THE SONGS                      0.000000\n",
       "SYMPHONIES ON FILM                     0.000000\n",
       "SYMPHONIES                             0.000000\n",
       "SYDNEY                                 0.000000\n",
       "I'LL BE YOUR HOST                      0.000000\n",
       "I'LL HAVE A B_L_T                      0.000000\n",
       "“SAINTS”                               0.000000\n",
       "Name: answer_in_question, Length: 10051, dtype: float64"
      ]
     },
     "execution_count": 668,
     "metadata": {},
     "output_type": "execute_result"
    }
   ],
   "source": [
    "jeopardy.groupby(by=\"Category\").mean()[\"answer_in_question\"].sort_values(ascending=False)"
   ]
  },
  {
   "cell_type": "markdown",
   "metadata": {
    "deletable": true,
    "editable": true
   },
   "source": [
    "Approximatly 0.1 words from the question occur in the answer. This is not very enlightening and helpful. It's worth looking at the answers where the most words of the question reappear. It shows that there is a category \"PUT 'EM IN ORDER\" which drives up the average significantly. Moreover the category \"FIX THE PROVERB\" and \"PROVERBS\" repeat a lot of words which, again, lies in the nature of the category. So question 1 \"How often the answer is deducible from the question.\" can be answered with it depends on the category of the question. "
   ]
  },
  {
   "cell_type": "code",
   "execution_count": 669,
   "metadata": {
    "collapsed": true,
    "deletable": true,
    "editable": true
   },
   "outputs": [],
   "source": [
    "jeopardy_date_sorted = jeopardy.sort_values(by=\"air_date_dt\")"
   ]
  },
  {
   "cell_type": "code",
   "execution_count": 670,
   "metadata": {
    "collapsed": false,
    "deletable": true,
    "editable": true
   },
   "outputs": [
    {
     "data": {
      "text/html": [
       "<div>\n",
       "<style scoped>\n",
       "    .dataframe tbody tr th:only-of-type {\n",
       "        vertical-align: middle;\n",
       "    }\n",
       "\n",
       "    .dataframe tbody tr th {\n",
       "        vertical-align: top;\n",
       "    }\n",
       "\n",
       "    .dataframe thead th {\n",
       "        text-align: right;\n",
       "    }\n",
       "</style>\n",
       "<table border=\"1\" class=\"dataframe\">\n",
       "  <thead>\n",
       "    <tr style=\"text-align: right;\">\n",
       "      <th></th>\n",
       "      <th>ShowNumber</th>\n",
       "      <th>AirDate</th>\n",
       "      <th>Round</th>\n",
       "      <th>Category</th>\n",
       "      <th>Value</th>\n",
       "      <th>Question</th>\n",
       "      <th>Answer</th>\n",
       "      <th>clean_question</th>\n",
       "      <th>clean_answer</th>\n",
       "      <th>clean_value</th>\n",
       "      <th>air_date_dt</th>\n",
       "      <th>answer_in_question</th>\n",
       "    </tr>\n",
       "  </thead>\n",
       "  <tbody>\n",
       "    <tr>\n",
       "      <th>19281</th>\n",
       "      <td>10</td>\n",
       "      <td>1984-09-21</td>\n",
       "      <td>Jeopardy!</td>\n",
       "      <td>DOUBLE TALK</td>\n",
       "      <td>$200</td>\n",
       "      <td>Affirmative reply to an admiral's command</td>\n",
       "      <td>aye-aye</td>\n",
       "      <td>affirmative reply to an admiral's command</td>\n",
       "      <td>aye-aye</td>\n",
       "      <td>200</td>\n",
       "      <td>1984-09-21</td>\n",
       "      <td>0.0</td>\n",
       "    </tr>\n",
       "    <tr>\n",
       "      <th>19297</th>\n",
       "      <td>10</td>\n",
       "      <td>1984-09-21</td>\n",
       "      <td>Jeopardy!</td>\n",
       "      <td>\"JACKS\" OF ALL TRADES</td>\n",
       "      <td>$500</td>\n",
       "      <td>2nd generation pop singer, he's sung on every ...</td>\n",
       "      <td>Jack Jones</td>\n",
       "      <td>2nd generation pop singer, he's sung on every ...</td>\n",
       "      <td>jack jones</td>\n",
       "      <td>500</td>\n",
       "      <td>1984-09-21</td>\n",
       "      <td>0.0</td>\n",
       "    </tr>\n",
       "    <tr>\n",
       "      <th>19296</th>\n",
       "      <td>10</td>\n",
       "      <td>1984-09-21</td>\n",
       "      <td>Jeopardy!</td>\n",
       "      <td>DOUBLE TALK</td>\n",
       "      <td>$500</td>\n",
       "      <td>British rockers whose name came from villain i...</td>\n",
       "      <td>Duran Duran</td>\n",
       "      <td>british rockers whose name came from villain i...</td>\n",
       "      <td>duran duran</td>\n",
       "      <td>500</td>\n",
       "      <td>1984-09-21</td>\n",
       "      <td>0.0</td>\n",
       "    </tr>\n",
       "    <tr>\n",
       "      <th>19295</th>\n",
       "      <td>10</td>\n",
       "      <td>1984-09-21</td>\n",
       "      <td>Jeopardy!</td>\n",
       "      <td>GEOGRAPHY</td>\n",
       "      <td>$500</td>\n",
       "      <td>About 1/3 of Africa's Pygmy population lives i...</td>\n",
       "      <td>Zaire</td>\n",
       "      <td>about 1/3 of africa's pygmy population lives i...</td>\n",
       "      <td>zaire</td>\n",
       "      <td>500</td>\n",
       "      <td>1984-09-21</td>\n",
       "      <td>0.0</td>\n",
       "    </tr>\n",
       "    <tr>\n",
       "      <th>19294</th>\n",
       "      <td>10</td>\n",
       "      <td>1984-09-21</td>\n",
       "      <td>Jeopardy!</td>\n",
       "      <td>\"B\" MOVIES</td>\n",
       "      <td>$400</td>\n",
       "      <td>This title describes Carroll Baker's thumb-suc...</td>\n",
       "      <td>Baby Doll</td>\n",
       "      <td>this title describes carroll baker's thumb-suc...</td>\n",
       "      <td>baby doll</td>\n",
       "      <td>400</td>\n",
       "      <td>1984-09-21</td>\n",
       "      <td>0.0</td>\n",
       "    </tr>\n",
       "  </tbody>\n",
       "</table>\n",
       "</div>"
      ],
      "text/plain": [
       "       ShowNumber     AirDate      Round               Category Value  \\\n",
       "19281          10  1984-09-21  Jeopardy!            DOUBLE TALK  $200   \n",
       "19297          10  1984-09-21  Jeopardy!  \"JACKS\" OF ALL TRADES  $500   \n",
       "19296          10  1984-09-21  Jeopardy!            DOUBLE TALK  $500   \n",
       "19295          10  1984-09-21  Jeopardy!              GEOGRAPHY  $500   \n",
       "19294          10  1984-09-21  Jeopardy!             \"B\" MOVIES  $400   \n",
       "\n",
       "                                                Question       Answer  \\\n",
       "19281          Affirmative reply to an admiral's command      aye-aye   \n",
       "19297  2nd generation pop singer, he's sung on every ...   Jack Jones   \n",
       "19296  British rockers whose name came from villain i...  Duran Duran   \n",
       "19295  About 1/3 of Africa's Pygmy population lives i...        Zaire   \n",
       "19294  This title describes Carroll Baker's thumb-suc...    Baby Doll   \n",
       "\n",
       "                                          clean_question clean_answer  \\\n",
       "19281          affirmative reply to an admiral's command      aye-aye   \n",
       "19297  2nd generation pop singer, he's sung on every ...   jack jones   \n",
       "19296  british rockers whose name came from villain i...  duran duran   \n",
       "19295  about 1/3 of africa's pygmy population lives i...        zaire   \n",
       "19294  this title describes carroll baker's thumb-suc...    baby doll   \n",
       "\n",
       "       clean_value air_date_dt  answer_in_question  \n",
       "19281          200  1984-09-21                 0.0  \n",
       "19297          500  1984-09-21                 0.0  \n",
       "19296          500  1984-09-21                 0.0  \n",
       "19295          500  1984-09-21                 0.0  \n",
       "19294          400  1984-09-21                 0.0  "
      ]
     },
     "execution_count": 670,
     "metadata": {},
     "output_type": "execute_result"
    }
   ],
   "source": [
    "jeopardy_date_sorted.head()"
   ]
  },
  {
   "cell_type": "code",
   "execution_count": 671,
   "metadata": {
    "collapsed": true,
    "deletable": true,
    "editable": true
   },
   "outputs": [],
   "source": [
    "terms_used = set()\n",
    "question_overlap = []"
   ]
  },
  {
   "cell_type": "code",
   "execution_count": 672,
   "metadata": {
    "collapsed": false,
    "deletable": true,
    "editable": true
   },
   "outputs": [
    {
     "data": {
      "text/html": [
       "<div>\n",
       "<style scoped>\n",
       "    .dataframe tbody tr th:only-of-type {\n",
       "        vertical-align: middle;\n",
       "    }\n",
       "\n",
       "    .dataframe tbody tr th {\n",
       "        vertical-align: top;\n",
       "    }\n",
       "\n",
       "    .dataframe thead th {\n",
       "        text-align: right;\n",
       "    }\n",
       "</style>\n",
       "<table border=\"1\" class=\"dataframe\">\n",
       "  <thead>\n",
       "    <tr style=\"text-align: right;\">\n",
       "      <th></th>\n",
       "      <th>ShowNumber</th>\n",
       "      <th>AirDate</th>\n",
       "      <th>Round</th>\n",
       "      <th>Category</th>\n",
       "      <th>Value</th>\n",
       "      <th>Question</th>\n",
       "      <th>Answer</th>\n",
       "      <th>clean_question</th>\n",
       "      <th>clean_answer</th>\n",
       "      <th>clean_value</th>\n",
       "      <th>air_date_dt</th>\n",
       "      <th>answer_in_question</th>\n",
       "      <th>question_overlap</th>\n",
       "    </tr>\n",
       "  </thead>\n",
       "  <tbody>\n",
       "    <tr>\n",
       "      <th>12514</th>\n",
       "      <td>4586</td>\n",
       "      <td>2004-07-12</td>\n",
       "      <td>Jeopardy!</td>\n",
       "      <td>THE 1860s</td>\n",
       "      <td>$1000</td>\n",
       "      <td>On March 17, 1861 this last king of Sardinia b...</td>\n",
       "      <td>Victor Emmanuel</td>\n",
       "      <td>on march 17, 1861 this last king of sardinia b...</td>\n",
       "      <td>victor emmanuel</td>\n",
       "      <td>1000</td>\n",
       "      <td>2004-07-12</td>\n",
       "      <td>0.0</td>\n",
       "      <td>1.0</td>\n",
       "    </tr>\n",
       "    <tr>\n",
       "      <th>21871</th>\n",
       "      <td>4929</td>\n",
       "      <td>2006-02-02</td>\n",
       "      <td>Double Jeopardy!</td>\n",
       "      <td>2-SPORT TERMS</td>\n",
       "      <td>$800</td>\n",
       "      <td>In 2 different sports, it can weigh 1 1/8 ounc...</td>\n",
       "      <td>a shot</td>\n",
       "      <td>in 2 different sports, it can weigh 1 1/8 ounc...</td>\n",
       "      <td>a shot</td>\n",
       "      <td>800</td>\n",
       "      <td>2006-02-02</td>\n",
       "      <td>0.0</td>\n",
       "      <td>1.0</td>\n",
       "    </tr>\n",
       "    <tr>\n",
       "      <th>21846</th>\n",
       "      <td>4929</td>\n",
       "      <td>2006-02-02</td>\n",
       "      <td>Jeopardy!</td>\n",
       "      <td>\"F\" STOP</td>\n",
       "      <td>$400</td>\n",
       "      <td>An amusement park ride consisting of an uprigh...</td>\n",
       "      <td>a Ferris wheel</td>\n",
       "      <td>an amusement park ride consisting of an uprigh...</td>\n",
       "      <td>a ferris wheel</td>\n",
       "      <td>400</td>\n",
       "      <td>2006-02-02</td>\n",
       "      <td>0.0</td>\n",
       "      <td>1.0</td>\n",
       "    </tr>\n",
       "    <tr>\n",
       "      <th>21845</th>\n",
       "      <td>4929</td>\n",
       "      <td>2006-02-02</td>\n",
       "      <td>Jeopardy!</td>\n",
       "      <td>I AM A CAMERA</td>\n",
       "      <td>$400</td>\n",
       "      <td>This \"colorful\" camera introduced in 1900 cost...</td>\n",
       "      <td>the Brownie</td>\n",
       "      <td>this \"colorful\" camera introduced in 1900 cost...</td>\n",
       "      <td>the brownie</td>\n",
       "      <td>400</td>\n",
       "      <td>2006-02-02</td>\n",
       "      <td>0.0</td>\n",
       "      <td>1.0</td>\n",
       "    </tr>\n",
       "    <tr>\n",
       "      <th>21844</th>\n",
       "      <td>4929</td>\n",
       "      <td>2006-02-02</td>\n",
       "      <td>Jeopardy!</td>\n",
       "      <td>FIRST LADIES</td>\n",
       "      <td>$400</td>\n",
       "      <td>Her father was John V. Bouvier III, a New York...</td>\n",
       "      <td>Jackie Kennedy</td>\n",
       "      <td>her father was john v. bouvier iii, a new york...</td>\n",
       "      <td>jackie kennedy</td>\n",
       "      <td>400</td>\n",
       "      <td>2006-02-02</td>\n",
       "      <td>0.0</td>\n",
       "      <td>1.0</td>\n",
       "    </tr>\n",
       "  </tbody>\n",
       "</table>\n",
       "</div>"
      ],
      "text/plain": [
       "       ShowNumber     AirDate             Round       Category  Value  \\\n",
       "12514        4586  2004-07-12         Jeopardy!      THE 1860s  $1000   \n",
       "21871        4929  2006-02-02  Double Jeopardy!  2-SPORT TERMS   $800   \n",
       "21846        4929  2006-02-02         Jeopardy!       \"F\" STOP   $400   \n",
       "21845        4929  2006-02-02         Jeopardy!  I AM A CAMERA   $400   \n",
       "21844        4929  2006-02-02         Jeopardy!   FIRST LADIES   $400   \n",
       "\n",
       "                                                Question           Answer  \\\n",
       "12514  On March 17, 1861 this last king of Sardinia b...  Victor Emmanuel   \n",
       "21871  In 2 different sports, it can weigh 1 1/8 ounc...           a shot   \n",
       "21846  An amusement park ride consisting of an uprigh...   a Ferris wheel   \n",
       "21845  This \"colorful\" camera introduced in 1900 cost...      the Brownie   \n",
       "21844  Her father was John V. Bouvier III, a New York...   Jackie Kennedy   \n",
       "\n",
       "                                          clean_question     clean_answer  \\\n",
       "12514  on march 17, 1861 this last king of sardinia b...  victor emmanuel   \n",
       "21871  in 2 different sports, it can weigh 1 1/8 ounc...           a shot   \n",
       "21846  an amusement park ride consisting of an uprigh...   a ferris wheel   \n",
       "21845  this \"colorful\" camera introduced in 1900 cost...      the brownie   \n",
       "21844  her father was john v. bouvier iii, a new york...   jackie kennedy   \n",
       "\n",
       "       clean_value air_date_dt  answer_in_question  question_overlap  \n",
       "12514         1000  2004-07-12                 0.0               1.0  \n",
       "21871          800  2006-02-02                 0.0               1.0  \n",
       "21846          400  2006-02-02                 0.0               1.0  \n",
       "21845          400  2006-02-02                 0.0               1.0  \n",
       "21844          400  2006-02-02                 0.0               1.0  "
      ]
     },
     "execution_count": 672,
     "metadata": {},
     "output_type": "execute_result"
    }
   ],
   "source": [
    "question_overlap = []\n",
    "terms_used = []\n",
    "for i, row in jeopardy_date_sorted.iterrows():\n",
    "  split_question = row['clean_question'].split(' ')\n",
    "  split_question = [q for q in split_question if len(q) > 5]\n",
    "  match_count = 0\n",
    "  for q in split_question:\n",
    "    if q in terms_used:\n",
    "      match_count += 1\n",
    "    else: terms_used.append(q)\n",
    "  if len(split_question) > 0:\n",
    "    question_overlap.append(match_count / len(split_question))\n",
    "  else:\n",
    "    question_overlap.append(0)\n",
    "jeopardy_date_sorted['question_overlap'] = question_overlap\n",
    "jeopardy_date_sorted.sort_values(by='question_overlap', ascending=False).head()"
   ]
  },
  {
   "cell_type": "code",
   "execution_count": 673,
   "metadata": {
    "collapsed": false,
    "deletable": true,
    "editable": true
   },
   "outputs": [],
   "source": [
    "def value_count(row):\n",
    "    if row[\"clean_value\"] > 800:\n",
    "        value = 1\n",
    "    else:\n",
    "        value = 0\n",
    "    return value\n",
    "\n",
    "jeopardy[\"high_value\"] = jeopardy.apply(value_count, axis=1)\n",
    "        "
   ]
  },
  {
   "cell_type": "code",
   "execution_count": 674,
   "metadata": {
    "collapsed": true,
    "deletable": true,
    "editable": true
   },
   "outputs": [],
   "source": [
    "def word_eva(word, df):\n",
    "    low_count = 0\n",
    "    high_count = 0\n",
    "    for i, row in df.iterrows():\n",
    "        splitted_question = row[\"clean_question\"].split(\" \")\n",
    "        if word in splitted_question:\n",
    "            if row[\"high_value\"] == 1:\n",
    "                high_count += 1\n",
    "            else:\n",
    "                low_count += 1\n",
    "    return (high_count, low_count)\n",
    "\n",
    "observed_expected = []\n",
    "observed_expected_dict = {}\n",
    "comparison_terms = list(terms_used[:8])\n",
    "for item in comparison_terms:\n",
    "    temp_list = word_eva(item, jeopardy)\n",
    "    observed_expected.append(temp_list)\n",
    "    observed_expected_dict[item] = temp_list"
   ]
  },
  {
   "cell_type": "code",
   "execution_count": 675,
   "metadata": {
    "collapsed": false,
    "deletable": true,
    "editable": true
   },
   "outputs": [
    {
     "data": {
      "text/plain": [
       "{\"admiral's\": (0, 2),\n",
       " 'affirmative': (0, 2),\n",
       " 'british': (190, 395),\n",
       " 'command': (14, 22),\n",
       " 'generation': (2, 10),\n",
       " 'rockers': (3, 3),\n",
       " 'singer,': (4, 8),\n",
       " 'voyage': (2, 27)}"
      ]
     },
     "execution_count": 675,
     "metadata": {},
     "output_type": "execute_result"
    }
   ],
   "source": [
    "observed_expected_dict"
   ]
  },
  {
   "cell_type": "code",
   "execution_count": 676,
   "metadata": {
    "collapsed": false,
    "deletable": true,
    "editable": true
   },
   "outputs": [
    {
     "data": {
      "text/plain": [
       "[(0, 2), (0, 2), (14, 22), (2, 10), (4, 8), (2, 27), (190, 395), (3, 3)]"
      ]
     },
     "execution_count": 676,
     "metadata": {},
     "output_type": "execute_result"
    }
   ],
   "source": [
    "observed_expected"
   ]
  },
  {
   "cell_type": "code",
   "execution_count": 677,
   "metadata": {
    "collapsed": false,
    "deletable": true,
    "editable": true
   },
   "outputs": [
    {
     "data": {
      "text/plain": [
       "0    46416\n",
       "1    18584\n",
       "Name: high_value, dtype: int64"
      ]
     },
     "execution_count": 677,
     "metadata": {},
     "output_type": "execute_result"
    }
   ],
   "source": [
    "low_value_count = jeopardy[\"high_value\"].value_counts()[0]\n",
    "high_value_count = jeopardy[\"high_value\"].value_counts()[1]\n",
    "jeopardy[\"high_value\"].value_counts()"
   ]
  },
  {
   "cell_type": "code",
   "execution_count": 678,
   "metadata": {
    "collapsed": false,
    "deletable": true,
    "editable": true
   },
   "outputs": [],
   "source": [
    "#new = (1,100) # testing whether chi works as expected\n",
    "#observed_expected.append(new)\n",
    "#observed_expected"
   ]
  },
  {
   "cell_type": "code",
   "execution_count": 679,
   "metadata": {
    "collapsed": true,
    "deletable": true,
    "editable": true
   },
   "outputs": [],
   "source": [
    "chi_squared = []\n",
    "from scipy.stats import chisquare"
   ]
  },
  {
   "cell_type": "code",
   "execution_count": 681,
   "metadata": {
    "collapsed": false,
    "deletable": true,
    "editable": true
   },
   "outputs": [
    {
     "data": {
      "text/plain": [
       "[Power_divergenceResult(statistic=0.8007583591864874, pvalue=0.37086672928489395),\n",
       " Power_divergenceResult(statistic=0.8007583591864874, pvalue=0.37086672928489395),\n",
       " Power_divergenceResult(statistic=1.8699852172768794, pvalue=0.17147677260184616),\n",
       " Power_divergenceResult(statistic=0.8357039539213132, pvalue=0.36062833980107545),\n",
       " Power_divergenceResult(statistic=0.1321987870744269, pvalue=0.7161630665709534),\n",
       " Power_divergenceResult(statistic=6.685067290041586, pvalue=0.009722385287789946),\n",
       " Power_divergenceResult(statistic=4.3310942270283235, pvalue=0.03742218114782494),\n",
       " Power_divergenceResult(statistic=1.3470173272891335, pvalue=0.24580022922966832),\n",
       " Power_divergenceResult(statistic=0.8007583591864874, pvalue=0.37086672928489395),\n",
       " Power_divergenceResult(statistic=0.8007583591864874, pvalue=0.37086672928489395),\n",
       " Power_divergenceResult(statistic=1.8699852172768794, pvalue=0.17147677260184616),\n",
       " Power_divergenceResult(statistic=0.8357039539213132, pvalue=0.36062833980107545),\n",
       " Power_divergenceResult(statistic=0.1321987870744269, pvalue=0.7161630665709534),\n",
       " Power_divergenceResult(statistic=6.685067290041586, pvalue=0.009722385287789946),\n",
       " Power_divergenceResult(statistic=4.3310942270283235, pvalue=0.03742218114782494),\n",
       " Power_divergenceResult(statistic=1.3470173272891335, pvalue=0.24580022922966832)]"
      ]
     },
     "execution_count": 681,
     "metadata": {},
     "output_type": "execute_result"
    }
   ],
   "source": [
    "for item in observed_expected:\n",
    "    total = sum(item)\n",
    "    total_prop = total / len(jeopardy)\n",
    "    expected_count_high = total_prop * high_value_count\n",
    "    expected_count_low = total_prop * low_value_count\n",
    "    chi_square_values = chisquare(item, f_exp=[expected_count_high, expected_count_low])\n",
    "    chi_squared.append(chi_square_values)\n",
    "\n",
    "chi_squared"
   ]
  },
  {
   "cell_type": "code",
   "execution_count": 682,
   "metadata": {
    "collapsed": false,
    "deletable": true,
    "editable": true
   },
   "outputs": [
    {
     "ename": "NameError",
     "evalue": "name 'git' is not defined",
     "output_type": "error",
     "traceback": [
      "\u001b[0;31m---------------------------------------------------------------------------\u001b[0m",
      "\u001b[0;31mNameError\u001b[0m                                 Traceback (most recent call last)",
      "\u001b[0;32m<ipython-input-682-e8dd36a5e408>\u001b[0m in \u001b[0;36m<module>\u001b[0;34m()\u001b[0m\n\u001b[0;32m----> 1\u001b[0;31m \u001b[0mgit\u001b[0m\u001b[0;34m\u001b[0m\u001b[0m\n\u001b[0m",
      "\u001b[0;31mNameError\u001b[0m: name 'git' is not defined"
     ]
    }
   ],
   "source": [
    "git"
   ]
  },
  {
   "cell_type": "code",
   "execution_count": null,
   "metadata": {
    "collapsed": true,
    "deletable": true,
    "editable": true
   },
   "outputs": [],
   "source": []
  }
 ],
 "metadata": {
  "anaconda-cloud": {},
  "kernelspec": {
   "display_name": "Python [conda root]",
   "language": "python",
   "name": "conda-root-py"
  },
  "language_info": {
   "codemirror_mode": {
    "name": "ipython",
    "version": 3
   },
   "file_extension": ".py",
   "mimetype": "text/x-python",
   "name": "python",
   "nbconvert_exporter": "python",
   "pygments_lexer": "ipython3",
   "version": "3.5.2"
  }
 },
 "nbformat": 4,
 "nbformat_minor": 2
}
